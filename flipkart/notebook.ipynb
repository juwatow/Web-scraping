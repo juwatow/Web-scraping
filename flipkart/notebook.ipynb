{
    "nbformat_minor": 1, 
    "cells": [
        {
            "execution_count": 1, 
            "cell_type": "code", 
            "metadata": {}, 
            "outputs": [], 
            "source": "# The code was removed by Watson Studio for sharing."
        }, 
        {
            "execution_count": 2, 
            "cell_type": "code", 
            "metadata": {}, 
            "outputs": [], 
            "source": "# References:\n# -- https://github.com/julia-git/webscraping_ny_mta/blob/master/Webscraping.ipynb\n# -- https://www.edureka.co/blog/web-scraping-with-python/\n\n#!conda install -c conda-forge beautifulsoup4\n\nimport pandas as pd\nimport requests\nfrom bs4 import BeautifulSoup"
        }, 
        {
            "execution_count": 3, 
            "cell_type": "code", 
            "metadata": {}, 
            "outputs": [], 
            "source": "url = 'https://www.flipkart.com/laptops/~buyback-guarantee-on-laptops-/pr?sid=6bo%2Cb5g&uniqBStoreParam1=val1&wid=11.productCard.PMU_V2'\nresponse = requests.get(url)\n# response"
        }, 
        {
            "execution_count": 4, 
            "cell_type": "code", 
            "metadata": {}, 
            "outputs": [], 
            "source": "soup = BeautifulSoup(response.text, \"html.parser\")\n# soup"
        }, 
        {
            "execution_count": 5, 
            "cell_type": "code", 
            "metadata": {}, 
            "outputs": [], 
            "source": "products=[] #List to store name of the product\nprices=[] #List to store price of the product\nratings=[] #List to store rating of the product\n\nfor a in soup.findAll('a', href=True, attrs={'class':'_31qSD5'}):\n    name=a.find('div', attrs={'class':'_3wU53n'})\n    price=a.find('div', attrs={'class':'_1vC4OE _2rQ-NK'})\n    rating=a.find('div', attrs={'class':'hGSR34'})\n    products.append(name.text)\n    prices.append(price.text)\n    ratings.append(rating.text)"
        }, 
        {
            "execution_count": 6, 
            "cell_type": "code", 
            "metadata": {}, 
            "outputs": [
                {
                    "execution_count": 6, 
                    "metadata": {}, 
                    "data": {
                        "text/plain": "{'file_name': 'flipkart-products.csv',\n 'message': 'File saved to project storage.',\n 'bucket_name': 'webscraping-donotdelete-pr-jf8wzxgloy7a87',\n 'asset_id': '012fb557-06f7-4c81-90c8-92cbeeb2ea81'}"
                    }, 
                    "output_type": "execute_result"
                }
            ], 
            "source": "df = pd.DataFrame({'Product Name':products,'Price':prices,'Rating':ratings}) \n#df\nproject.save_data(\"flipkart-products.csv\", df.to_csv(index=False, encoding='utf-8'), set_project_asset=True, overwrite=True)"
        }
    ], 
    "metadata": {
        "kernelspec": {
            "display_name": "Python 3.6", 
            "name": "python3", 
            "language": "python"
        }, 
        "language_info": {
            "mimetype": "text/x-python", 
            "nbconvert_exporter": "python", 
            "version": "3.6.8", 
            "name": "python", 
            "file_extension": ".py", 
            "pygments_lexer": "ipython3", 
            "codemirror_mode": {
                "version": 3, 
                "name": "ipython"
            }
        }
    }, 
    "nbformat": 4
}